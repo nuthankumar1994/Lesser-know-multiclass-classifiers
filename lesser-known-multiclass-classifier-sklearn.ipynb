{
 "cells": [
  {
   "cell_type": "markdown",
   "metadata": {
    "papermill": {
     "duration": 0.008536,
     "end_time": "2020-08-17T21:03:02.480365",
     "exception": false,
     "start_time": "2020-08-17T21:03:02.471829",
     "status": "completed"
    },
    "tags": []
   },
   "source": [
    "Some Lesser Known MultiClass Classifier from SKLearn\n",
    "\n",
    "In this notebook, we're going to have a look at some of the lesser known **Inherently MultiClass Classifier Algorithm** from SK-Learn library. \n",
    "\n",
    "* Extra Tree Classifier [sklearn.tree module]\n",
    "* Extra Tree Classifier [sklearn.ensemble module]\n",
    "* MLP Classifier\n",
    "* Nearest Centroid\n",
    "* Quadratic Discriminant Analysis\n",
    "* Radius Neighbors Classifier\n",
    "* Ridge Classifier\n",
    "\n",
    "We'll be using the [Abalone Dataset](https://archive.ics.uci.edu/ml/datasets/abalone) Dataset for the multi-class classification.\n"
   ]
  },
  {
   "cell_type": "markdown",
   "metadata": {
    "papermill": {
     "duration": 0.008532,
     "end_time": "2020-08-17T21:03:02.497654",
     "exception": false,
     "start_time": "2020-08-17T21:03:02.489122",
     "status": "completed"
    },
    "tags": []
   },
   "source": [
    "## Libraries"
   ]
  },
  {
   "cell_type": "code",
   "execution_count": 1,
   "metadata": {
    "_cell_guid": "b1076dfc-b9ad-4769-8c92-a6c4dae69d19",
    "_uuid": "8f2839f25d086af736a60e9eeb907d3b93b6e0e5",
    "execution": {
     "iopub.execute_input": "2020-08-17T21:03:02.525560Z",
     "iopub.status.busy": "2020-08-17T21:03:02.524760Z",
     "iopub.status.idle": "2020-08-17T21:03:03.968347Z",
     "shell.execute_reply": "2020-08-17T21:03:03.967448Z"
    },
    "papermill": {
     "duration": 1.462101,
     "end_time": "2020-08-17T21:03:03.968505",
     "exception": false,
     "start_time": "2020-08-17T21:03:02.506404",
     "status": "completed"
    },
    "tags": []
   },
   "outputs": [],
   "source": [
    "# Generic\n",
    "import numpy as np # linear algebra\n",
    "import pandas as pd # data processing, CSV file I/O (e.g. pd.read_csv)\n",
    "import os, warnings, gc\n",
    "warnings.filterwarnings(\"ignore\")\n",
    "\n",
    "# Sklearn Classifier Algorithm\n",
    "from sklearn.tree import ExtraTreeClassifier\n",
    "from sklearn.ensemble import ExtraTreesClassifier, BaggingClassifier, RandomForestClassifier\n",
    "from sklearn.neural_network import MLPClassifier\n",
    "from sklearn.neighbors import NearestCentroid, RadiusNeighborsClassifier\n",
    "from sklearn.discriminant_analysis import QuadraticDiscriminantAnalysis\n",
    "from sklearn.linear_model import RidgeClassifier\n",
    "\n",
    "# Sklearn (other)\n",
    "from sklearn.preprocessing import LabelEncoder\n",
    "from sklearn.model_selection import train_test_split\n",
    "from sklearn.preprocessing import StandardScaler\n",
    "from sklearn.metrics import accuracy_score\n",
    "\n",
    "from tabulate import tabulate\n"
   ]
  },
  {
   "cell_type": "markdown",
   "metadata": {
    "papermill": {
     "duration": 0.010209,
     "end_time": "2020-08-17T21:03:03.987968",
     "exception": false,
     "start_time": "2020-08-17T21:03:03.977759",
     "status": "completed"
    },
    "tags": []
   },
   "source": [
    "# Data"
   ]
  },
  {
   "cell_type": "code",
   "execution_count": 2,
   "metadata": {
    "_cell_guid": "79c7e3d0-c299-4dcb-8224-4455121ee9b0",
    "_uuid": "d629ff2d2480ee46fbb7e2d37f6b5fab8052498a",
    "execution": {
     "iopub.execute_input": "2020-08-17T21:03:04.016496Z",
     "iopub.status.busy": "2020-08-17T21:03:04.015633Z",
     "iopub.status.idle": "2020-08-17T21:03:04.038741Z",
     "shell.execute_reply": "2020-08-17T21:03:04.037809Z"
    },
    "papermill": {
     "duration": 0.042291,
     "end_time": "2020-08-17T21:03:04.038884",
     "exception": false,
     "start_time": "2020-08-17T21:03:03.996593",
     "status": "completed"
    },
    "tags": []
   },
   "outputs": [],
   "source": [
    "url = '../input/all-datasets-for-practicing-ml/Class/Class_Abalone.csv'\n",
    "data = pd.read_csv(url, header='infer')"
   ]
  },
  {
   "cell_type": "code",
   "execution_count": 3,
   "metadata": {
    "execution": {
     "iopub.execute_input": "2020-08-17T21:03:04.062966Z",
     "iopub.status.busy": "2020-08-17T21:03:04.062134Z",
     "iopub.status.idle": "2020-08-17T21:03:04.066171Z",
     "shell.execute_reply": "2020-08-17T21:03:04.066771Z"
    },
    "papermill": {
     "duration": 0.019095,
     "end_time": "2020-08-17T21:03:04.066934",
     "exception": false,
     "start_time": "2020-08-17T21:03:04.047839",
     "status": "completed"
    },
    "tags": []
   },
   "outputs": [
    {
     "name": "stdout",
     "output_type": "stream",
     "text": [
      "Total Records:  4177\n"
     ]
    }
   ],
   "source": [
    "# Total Records\n",
    "print(\"Total Records: \", data.shape[0])"
   ]
  },
  {
   "cell_type": "code",
   "execution_count": 4,
   "metadata": {
    "execution": {
     "iopub.execute_input": "2020-08-17T21:03:04.091245Z",
     "iopub.status.busy": "2020-08-17T21:03:04.090194Z",
     "iopub.status.idle": "2020-08-17T21:03:04.095594Z",
     "shell.execute_reply": "2020-08-17T21:03:04.094730Z"
    },
    "papermill": {
     "duration": 0.019957,
     "end_time": "2020-08-17T21:03:04.095759",
     "exception": false,
     "start_time": "2020-08-17T21:03:04.075802",
     "status": "completed"
    },
    "tags": []
   },
   "outputs": [
    {
     "name": "stdout",
     "output_type": "stream",
     "text": [
      "Is Dataset Empty:  False\n"
     ]
    }
   ],
   "source": [
    "# Check for empty/null/missing records\n",
    "print(\"Is Dataset Empty: \", data.empty)"
   ]
  },
  {
   "cell_type": "code",
   "execution_count": 5,
   "metadata": {
    "execution": {
     "iopub.execute_input": "2020-08-17T21:03:04.131025Z",
     "iopub.status.busy": "2020-08-17T21:03:04.130108Z",
     "iopub.status.idle": "2020-08-17T21:03:04.135312Z",
     "shell.execute_reply": "2020-08-17T21:03:04.134521Z"
    },
    "papermill": {
     "duration": 0.030304,
     "end_time": "2020-08-17T21:03:04.135443",
     "exception": false,
     "start_time": "2020-08-17T21:03:04.105139",
     "status": "completed"
    },
    "tags": []
   },
   "outputs": [
    {
     "data": {
      "text/plain": [
       "M    1528\n",
       "I    1342\n",
       "F    1307\n",
       "Name: Sex, dtype: int64"
      ]
     },
     "execution_count": 5,
     "metadata": {},
     "output_type": "execute_result"
    }
   ],
   "source": [
    "# Records per Classes\n",
    "data.Sex.value_counts()"
   ]
  },
  {
   "cell_type": "markdown",
   "metadata": {
    "papermill": {
     "duration": 0.00882,
     "end_time": "2020-08-17T21:03:04.153642",
     "exception": false,
     "start_time": "2020-08-17T21:03:04.144822",
     "status": "completed"
    },
    "tags": []
   },
   "source": [
    "# Data Prep\n",
    "\n",
    "We'll use Label Encoder to convert the 'Sex' column to numerical format for easy ingestion by the algorithms"
   ]
  },
  {
   "cell_type": "code",
   "execution_count": 6,
   "metadata": {
    "execution": {
     "iopub.execute_input": "2020-08-17T21:03:04.181757Z",
     "iopub.status.busy": "2020-08-17T21:03:04.180931Z",
     "iopub.status.idle": "2020-08-17T21:03:04.184791Z",
     "shell.execute_reply": "2020-08-17T21:03:04.183952Z"
    },
    "papermill": {
     "duration": 0.021702,
     "end_time": "2020-08-17T21:03:04.184955",
     "exception": false,
     "start_time": "2020-08-17T21:03:04.163253",
     "status": "completed"
    },
    "tags": []
   },
   "outputs": [],
   "source": [
    "# Instantiating Label Encoder\n",
    "encoder = LabelEncoder()\n",
    "\n",
    "# Columns List\n",
    "columns = data.columns\n",
    "\n",
    "# Encode the column \n",
    "data['Sex']= encoder.fit_transform(data['Sex']) \n",
    "    "
   ]
  },
  {
   "cell_type": "code",
   "execution_count": 7,
   "metadata": {
    "execution": {
     "iopub.execute_input": "2020-08-17T21:03:04.216943Z",
     "iopub.status.busy": "2020-08-17T21:03:04.214392Z",
     "iopub.status.idle": "2020-08-17T21:03:04.230816Z",
     "shell.execute_reply": "2020-08-17T21:03:04.230156Z"
    },
    "papermill": {
     "duration": 0.036803,
     "end_time": "2020-08-17T21:03:04.230944",
     "exception": false,
     "start_time": "2020-08-17T21:03:04.194141",
     "status": "completed"
    },
    "tags": []
   },
   "outputs": [
    {
     "data": {
      "text/html": [
       "<div>\n",
       "<style scoped>\n",
       "    .dataframe tbody tr th:only-of-type {\n",
       "        vertical-align: middle;\n",
       "    }\n",
       "\n",
       "    .dataframe tbody tr th {\n",
       "        vertical-align: top;\n",
       "    }\n",
       "\n",
       "    .dataframe thead th {\n",
       "        text-align: right;\n",
       "    }\n",
       "</style>\n",
       "<table border=\"1\" class=\"dataframe\">\n",
       "  <thead>\n",
       "    <tr style=\"text-align: right;\">\n",
       "      <th></th>\n",
       "      <th>Sex</th>\n",
       "      <th>Length</th>\n",
       "      <th>Diameter</th>\n",
       "      <th>Height</th>\n",
       "      <th>Whole_Weight</th>\n",
       "      <th>Shucked_Weight</th>\n",
       "      <th>Viscera_Weight</th>\n",
       "      <th>Shell_Weight</th>\n",
       "      <th>Rings</th>\n",
       "    </tr>\n",
       "  </thead>\n",
       "  <tbody>\n",
       "    <tr>\n",
       "      <th>0</th>\n",
       "      <td>2</td>\n",
       "      <td>0.455</td>\n",
       "      <td>0.365</td>\n",
       "      <td>0.095</td>\n",
       "      <td>0.5140</td>\n",
       "      <td>0.2245</td>\n",
       "      <td>0.1010</td>\n",
       "      <td>0.150</td>\n",
       "      <td>15</td>\n",
       "    </tr>\n",
       "    <tr>\n",
       "      <th>1</th>\n",
       "      <td>2</td>\n",
       "      <td>0.350</td>\n",
       "      <td>0.265</td>\n",
       "      <td>0.090</td>\n",
       "      <td>0.2255</td>\n",
       "      <td>0.0995</td>\n",
       "      <td>0.0485</td>\n",
       "      <td>0.070</td>\n",
       "      <td>7</td>\n",
       "    </tr>\n",
       "    <tr>\n",
       "      <th>2</th>\n",
       "      <td>0</td>\n",
       "      <td>0.530</td>\n",
       "      <td>0.420</td>\n",
       "      <td>0.135</td>\n",
       "      <td>0.6770</td>\n",
       "      <td>0.2565</td>\n",
       "      <td>0.1415</td>\n",
       "      <td>0.210</td>\n",
       "      <td>9</td>\n",
       "    </tr>\n",
       "    <tr>\n",
       "      <th>3</th>\n",
       "      <td>2</td>\n",
       "      <td>0.440</td>\n",
       "      <td>0.365</td>\n",
       "      <td>0.125</td>\n",
       "      <td>0.5160</td>\n",
       "      <td>0.2155</td>\n",
       "      <td>0.1140</td>\n",
       "      <td>0.155</td>\n",
       "      <td>10</td>\n",
       "    </tr>\n",
       "    <tr>\n",
       "      <th>4</th>\n",
       "      <td>1</td>\n",
       "      <td>0.330</td>\n",
       "      <td>0.255</td>\n",
       "      <td>0.080</td>\n",
       "      <td>0.2050</td>\n",
       "      <td>0.0895</td>\n",
       "      <td>0.0395</td>\n",
       "      <td>0.055</td>\n",
       "      <td>7</td>\n",
       "    </tr>\n",
       "  </tbody>\n",
       "</table>\n",
       "</div>"
      ],
      "text/plain": [
       "   Sex  Length  Diameter  Height  Whole_Weight  Shucked_Weight  \\\n",
       "0    2   0.455     0.365   0.095        0.5140          0.2245   \n",
       "1    2   0.350     0.265   0.090        0.2255          0.0995   \n",
       "2    0   0.530     0.420   0.135        0.6770          0.2565   \n",
       "3    2   0.440     0.365   0.125        0.5160          0.2155   \n",
       "4    1   0.330     0.255   0.080        0.2050          0.0895   \n",
       "\n",
       "   Viscera_Weight  Shell_Weight  Rings  \n",
       "0          0.1010         0.150     15  \n",
       "1          0.0485         0.070      7  \n",
       "2          0.1415         0.210      9  \n",
       "3          0.1140         0.155     10  \n",
       "4          0.0395         0.055      7  "
      ]
     },
     "execution_count": 7,
     "metadata": {},
     "output_type": "execute_result"
    }
   ],
   "source": [
    "# Inspect\n",
    "data.head()"
   ]
  },
  {
   "cell_type": "markdown",
   "metadata": {
    "papermill": {
     "duration": 0.009303,
     "end_time": "2020-08-17T21:03:04.249732",
     "exception": false,
     "start_time": "2020-08-17T21:03:04.240429",
     "status": "completed"
    },
    "tags": []
   },
   "source": [
    "# Feature Engineering, Data Split & Feature Scaling"
   ]
  },
  {
   "cell_type": "code",
   "execution_count": 8,
   "metadata": {
    "execution": {
     "iopub.execute_input": "2020-08-17T21:03:04.286760Z",
     "iopub.status.busy": "2020-08-17T21:03:04.279722Z",
     "iopub.status.idle": "2020-08-17T21:03:04.301310Z",
     "shell.execute_reply": "2020-08-17T21:03:04.300474Z"
    },
    "papermill": {
     "duration": 0.042319,
     "end_time": "2020-08-17T21:03:04.301445",
     "exception": false,
     "start_time": "2020-08-17T21:03:04.259126",
     "status": "completed"
    },
    "tags": []
   },
   "outputs": [],
   "source": [
    "# Feature & Target Selection\n",
    "target = ['Sex']   \n",
    "features = columns [1:]\n",
    "\n",
    "X = data[features]\n",
    "y = data[target]\n",
    "\n",
    "\n",
    "# Dataset Split\n",
    "''' Training = 90% & Validation = 10%  '''\n",
    "test_size = 0.1\n",
    "X_train, X_val, y_train, y_val = train_test_split(X, y, test_size=test_size, random_state=0, shuffle=True) \n",
    "\n",
    "\n",
    "# Feature Scaling\n",
    "sc = StandardScaler()\n",
    "X_train = sc.fit_transform(X_train)\n",
    "X_val = sc.transform(X_val)\n"
   ]
  },
  {
   "cell_type": "markdown",
   "metadata": {
    "papermill": {
     "duration": 0.009429,
     "end_time": "2020-08-17T21:03:04.320765",
     "exception": false,
     "start_time": "2020-08-17T21:03:04.311336",
     "status": "completed"
    },
    "tags": []
   },
   "source": [
    "# Classification"
   ]
  },
  {
   "cell_type": "markdown",
   "metadata": {
    "papermill": {
     "duration": 0.009308,
     "end_time": "2020-08-17T21:03:04.339553",
     "exception": false,
     "start_time": "2020-08-17T21:03:04.330245",
     "status": "completed"
    },
    "tags": []
   },
   "source": [
    "## Extra Tree Classifier (Tree Module)\n",
    "\n",
    "An extremely randomized tree classifier.\n",
    "\n",
    "Extra-trees differ from classic decision trees in the way they are built. When looking for the best split to separate the samples of a node into two groups, random splits are drawn for each of the max_features randomly selected features and the best split among those is chosen. When max_features is set 1, this amounts to building a totally random decision tree.\n",
    "\n",
    "**Note**: Extra-trees should only be used within ensemble methods.\n",
    "\n",
    "In this notebook, will be using another unknown ensemble classifier i.e. BaggingClassifier"
   ]
  },
  {
   "cell_type": "code",
   "execution_count": 9,
   "metadata": {
    "execution": {
     "iopub.execute_input": "2020-08-17T21:03:04.370523Z",
     "iopub.status.busy": "2020-08-17T21:03:04.369710Z",
     "iopub.status.idle": "2020-08-17T21:03:04.441264Z",
     "shell.execute_reply": "2020-08-17T21:03:04.441947Z"
    },
    "papermill": {
     "duration": 0.092707,
     "end_time": "2020-08-17T21:03:04.442114",
     "exception": false,
     "start_time": "2020-08-17T21:03:04.349407",
     "status": "completed"
    },
    "tags": []
   },
   "outputs": [
    {
     "name": "stdout",
     "output_type": "stream",
     "text": [
      "Extra Tree Classifier(Tree Module) Accuracy:  53.59%\n"
     ]
    }
   ],
   "source": [
    "# Instantiate Extra Tree Classifier\n",
    "et = ExtraTreeClassifier(random_state=1)\n",
    "\n",
    "# Bagging Classifier\n",
    "bgc = BaggingClassifier(et, random_state=1, max_features=8, verbose=0)\n",
    "\n",
    "# Train \n",
    "bgc.fit(X_train, y_train)\n",
    "\n",
    "# Prediction\n",
    "y_pred = bgc.predict(X_val)\n",
    "\n",
    "# Accuracy\n",
    "print(\"Extra Tree Classifier(Tree Module) Accuracy: \", '{:.2%}'.format(accuracy_score(y_val, y_pred)))\n",
    "\n",
    "tab_data = []\n",
    "tab_data.append(['Extra Tree(Tree)', '{:.2%}'.format(accuracy_score(y_val, y_pred))])"
   ]
  },
  {
   "cell_type": "markdown",
   "metadata": {
    "papermill": {
     "duration": 0.0094,
     "end_time": "2020-08-17T21:03:04.461428",
     "exception": false,
     "start_time": "2020-08-17T21:03:04.452028",
     "status": "completed"
    },
    "tags": []
   },
   "source": [
    "## Extra Tree Classifier (Ensemble Module)\n",
    "\n",
    "An extra-trees classifier.\n",
    "\n",
    "This class implements a meta estimator that fits a number of randomized decision trees (a.k.a. extra-trees) on various sub-samples of the dataset and uses averaging to improve the predictive accuracy and control over-fitting."
   ]
  },
  {
   "cell_type": "code",
   "execution_count": 10,
   "metadata": {
    "execution": {
     "iopub.execute_input": "2020-08-17T21:03:04.492587Z",
     "iopub.status.busy": "2020-08-17T21:03:04.491432Z",
     "iopub.status.idle": "2020-08-17T21:03:04.748010Z",
     "shell.execute_reply": "2020-08-17T21:03:04.748595Z"
    },
    "papermill": {
     "duration": 0.277701,
     "end_time": "2020-08-17T21:03:04.748779",
     "exception": false,
     "start_time": "2020-08-17T21:03:04.471078",
     "status": "completed"
    },
    "tags": []
   },
   "outputs": [
    {
     "name": "stdout",
     "output_type": "stream",
     "text": [
      "Extra Tree Classifier(Ensemble Module) Accuracy:  55.02%\n"
     ]
    }
   ],
   "source": [
    "# Instantiate Classifier\n",
    "etc = ExtraTreesClassifier(n_estimators=100, max_depth= 5,\n",
    "                           verbose=0, random_state=1)\n",
    "\n",
    "# Train\n",
    "etc.fit(X_train, y_train)\n",
    "\n",
    "# Prediction\n",
    "y_pred = etc.predict(X_val)\n",
    "\n",
    "# Accuracy\n",
    "print(\"Extra Tree Classifier(Ensemble Module) Accuracy: \", '{:.2%}'.format(accuracy_score(y_val, y_pred)))\n",
    "tab_data.append(['Extra Tree(Ensemble)', '{:.2%}'.format(accuracy_score(y_val, y_pred))])"
   ]
  },
  {
   "cell_type": "markdown",
   "metadata": {
    "papermill": {
     "duration": 0.00933,
     "end_time": "2020-08-17T21:03:04.768215",
     "exception": false,
     "start_time": "2020-08-17T21:03:04.758885",
     "status": "completed"
    },
    "tags": []
   },
   "source": [
    "## MLP Classifier\n",
    "\n",
    "Multi-layer Perceptron classifier.\n",
    "\n",
    "This model optimizes the log-loss function using LBFGS or stochastic gradient descent."
   ]
  },
  {
   "cell_type": "code",
   "execution_count": 11,
   "metadata": {
    "execution": {
     "iopub.execute_input": "2020-08-17T21:03:04.799532Z",
     "iopub.status.busy": "2020-08-17T21:03:04.798347Z",
     "iopub.status.idle": "2020-08-17T21:03:10.756335Z",
     "shell.execute_reply": "2020-08-17T21:03:10.755544Z"
    },
    "papermill": {
     "duration": 5.978613,
     "end_time": "2020-08-17T21:03:10.756477",
     "exception": false,
     "start_time": "2020-08-17T21:03:04.777864",
     "status": "completed"
    },
    "tags": []
   },
   "outputs": [
    {
     "name": "stdout",
     "output_type": "stream",
     "text": [
      "MLP Classifier Accuracy:  55.26%\n"
     ]
    }
   ],
   "source": [
    "# Instantiate Classifier\n",
    "mlp = MLPClassifier(random_state=1, max_iter=300,solver='sgd',\n",
    "                    batch_size=200, learning_rate='adaptive', learning_rate_init=0.001,\n",
    "                    shuffle=True, verbose=0)\n",
    "\n",
    "# Train\n",
    "mlp.fit(X_train, y_train)\n",
    "\n",
    "# Prediction\n",
    "y_pred = mlp.predict(X_val)\n",
    "\n",
    "# Accuracy\n",
    "print(\"MLP Classifier Accuracy: \", '{:.2%}'.format(accuracy_score(y_val, y_pred)))\n",
    "tab_data.append(['MLP', '{:.2%}'.format(accuracy_score(y_val, y_pred))])"
   ]
  },
  {
   "cell_type": "markdown",
   "metadata": {
    "papermill": {
     "duration": 0.00946,
     "end_time": "2020-08-17T21:03:10.776107",
     "exception": false,
     "start_time": "2020-08-17T21:03:10.766647",
     "status": "completed"
    },
    "tags": []
   },
   "source": [
    "## Nearest Centroid\n",
    "\n",
    "Nearest centroid classifier.\n",
    "\n",
    "Each class is represented by its centroid, with test samples classified to the class with the nearest centroid."
   ]
  },
  {
   "cell_type": "code",
   "execution_count": 12,
   "metadata": {
    "execution": {
     "iopub.execute_input": "2020-08-17T21:03:10.803545Z",
     "iopub.status.busy": "2020-08-17T21:03:10.802590Z",
     "iopub.status.idle": "2020-08-17T21:03:10.812816Z",
     "shell.execute_reply": "2020-08-17T21:03:10.811945Z"
    },
    "papermill": {
     "duration": 0.027084,
     "end_time": "2020-08-17T21:03:10.812965",
     "exception": false,
     "start_time": "2020-08-17T21:03:10.785881",
     "status": "completed"
    },
    "tags": []
   },
   "outputs": [
    {
     "name": "stdout",
     "output_type": "stream",
     "text": [
      "Nearest Centroid Classifier Accuracy:  52.15%\n"
     ]
    }
   ],
   "source": [
    "# Instantiate Classifier\n",
    "nc = NearestCentroid()\n",
    "\n",
    "# Train\n",
    "nc.fit(X_train, y_train)\n",
    "\n",
    "# Prediction\n",
    "y_pred = nc.predict(X_val)\n",
    "\n",
    "# Accuracy\n",
    "print(\"Nearest Centroid Classifier Accuracy: \", '{:.2%}'.format(accuracy_score(y_val, y_pred)))\n",
    "tab_data.append(['Nearest Centroid', '{:.2%}'.format(accuracy_score(y_val, y_pred))])"
   ]
  },
  {
   "cell_type": "markdown",
   "metadata": {
    "papermill": {
     "duration": 0.01089,
     "end_time": "2020-08-17T21:03:10.836127",
     "exception": false,
     "start_time": "2020-08-17T21:03:10.825237",
     "status": "completed"
    },
    "tags": []
   },
   "source": [
    "## Quadratic Discriminant Analysis\n",
    "\n",
    "Quadratic Discriminant Analysis\n",
    "\n",
    "A classifier with a quadratic decision boundary, generated by fitting class conditional densities to the data and using Bayes’ rule.\n",
    "\n",
    "The model fits a Gaussian density to each class."
   ]
  },
  {
   "cell_type": "code",
   "execution_count": 13,
   "metadata": {
    "execution": {
     "iopub.execute_input": "2020-08-17T21:03:10.865240Z",
     "iopub.status.busy": "2020-08-17T21:03:10.864327Z",
     "iopub.status.idle": "2020-08-17T21:03:10.918703Z",
     "shell.execute_reply": "2020-08-17T21:03:10.919536Z"
    },
    "papermill": {
     "duration": 0.07354,
     "end_time": "2020-08-17T21:03:10.919727",
     "exception": false,
     "start_time": "2020-08-17T21:03:10.846187",
     "status": "completed"
    },
    "tags": []
   },
   "outputs": [
    {
     "name": "stdout",
     "output_type": "stream",
     "text": [
      "Quadratic Discriminant Analysis Classifier Accuracy:  55.26%\n"
     ]
    }
   ],
   "source": [
    "# Instantiate Classifier\n",
    "qda = QuadraticDiscriminantAnalysis()\n",
    "\n",
    "# Train\n",
    "qda.fit(X_train, y_train)\n",
    "\n",
    "# Prediction\n",
    "y_pred = qda.predict(X_val)\n",
    "\n",
    "# Accuracy\n",
    "print(\"Quadratic Discriminant Analysis Classifier Accuracy: \", '{:.2%}'.format(accuracy_score(y_val, y_pred)))\n",
    "tab_data.append(['Quadratic Discriminant Analysis', '{:.2%}'.format(accuracy_score(y_val, y_pred))])"
   ]
  },
  {
   "cell_type": "markdown",
   "metadata": {
    "papermill": {
     "duration": 0.010654,
     "end_time": "2020-08-17T21:03:10.942793",
     "exception": false,
     "start_time": "2020-08-17T21:03:10.932139",
     "status": "completed"
    },
    "tags": []
   },
   "source": [
    "## Radius Neighbours Classifier\n",
    "\n",
    "Classifier implementing a vote among neighbors within a given radius"
   ]
  },
  {
   "cell_type": "code",
   "execution_count": 14,
   "metadata": {
    "execution": {
     "iopub.execute_input": "2020-08-17T21:03:10.973251Z",
     "iopub.status.busy": "2020-08-17T21:03:10.972484Z",
     "iopub.status.idle": "2020-08-17T21:03:11.036571Z",
     "shell.execute_reply": "2020-08-17T21:03:11.035880Z"
    },
    "papermill": {
     "duration": 0.083645,
     "end_time": "2020-08-17T21:03:11.036702",
     "exception": false,
     "start_time": "2020-08-17T21:03:10.953057",
     "status": "completed"
    },
    "tags": []
   },
   "outputs": [
    {
     "name": "stdout",
     "output_type": "stream",
     "text": [
      "Radius Neighbours Classifier Accuracy:  52.87%\n"
     ]
    }
   ],
   "source": [
    "# Instantiate Classifier\n",
    "rnc = RadiusNeighborsClassifier(radius=2.0, )\n",
    "\n",
    "# Train\n",
    "rnc.fit(X_train, y_train)\n",
    "\n",
    "# Prediction\n",
    "y_pred = rnc.predict(X_val)\n",
    "\n",
    "# Accuracy\n",
    "print(\"Radius Neighbours Classifier Accuracy: \", '{:.2%}'.format(accuracy_score(y_val, y_pred)))\n",
    "tab_data.append(['Radius Neighbours', '{:.2%}'.format(accuracy_score(y_val, y_pred))])"
   ]
  },
  {
   "cell_type": "markdown",
   "metadata": {
    "papermill": {
     "duration": 0.010229,
     "end_time": "2020-08-17T21:03:11.057764",
     "exception": false,
     "start_time": "2020-08-17T21:03:11.047535",
     "status": "completed"
    },
    "tags": []
   },
   "source": [
    "## Ridge Classifier\n",
    "\n",
    "Classifier using Ridge regression.\n",
    "\n",
    "This classifier first converts the target values into {-1, 1} and then treats the problem as a regression task (multi-output regression in the multiclass case)."
   ]
  },
  {
   "cell_type": "code",
   "execution_count": 15,
   "metadata": {
    "execution": {
     "iopub.execute_input": "2020-08-17T21:03:11.089691Z",
     "iopub.status.busy": "2020-08-17T21:03:11.088588Z",
     "iopub.status.idle": "2020-08-17T21:03:11.120471Z",
     "shell.execute_reply": "2020-08-17T21:03:11.119588Z"
    },
    "papermill": {
     "duration": 0.052553,
     "end_time": "2020-08-17T21:03:11.120612",
     "exception": false,
     "start_time": "2020-08-17T21:03:11.068059",
     "status": "completed"
    },
    "tags": []
   },
   "outputs": [
    {
     "name": "stdout",
     "output_type": "stream",
     "text": [
      "Ridge Classifier Accuracy:  52.39%\n"
     ]
    }
   ],
   "source": [
    "# Instantiate Classifier\n",
    "rc = RidgeClassifier(class_weight='balanced', random_state=1)\n",
    "\n",
    "# Train\n",
    "rc.fit(X_train, y_train)\n",
    "\n",
    "# Prediction\n",
    "y_pred = rc.predict(X_val)\n",
    "\n",
    "# Accuracy\n",
    "print(\"Ridge Classifier Accuracy: \", '{:.2%}'.format(accuracy_score(y_val, y_pred)))\n",
    "tab_data.append(['Ridge Classifier', '{:.2%}'.format(accuracy_score(y_val, y_pred))])"
   ]
  },
  {
   "cell_type": "code",
   "execution_count": 16,
   "metadata": {
    "execution": {
     "iopub.execute_input": "2020-08-17T21:03:11.149847Z",
     "iopub.status.busy": "2020-08-17T21:03:11.148809Z",
     "iopub.status.idle": "2020-08-17T21:03:11.153704Z",
     "shell.execute_reply": "2020-08-17T21:03:11.152519Z"
    },
    "papermill": {
     "duration": 0.022371,
     "end_time": "2020-08-17T21:03:11.153853",
     "exception": false,
     "start_time": "2020-08-17T21:03:11.131482",
     "status": "completed"
    },
    "tags": []
   },
   "outputs": [
    {
     "name": "stdout",
     "output_type": "stream",
     "text": [
      "+---------------------------------+----------+\n",
      "|           Classifiers           | Accuracy |\n",
      "+---------------------------------+----------+\n",
      "|        Extra Tree(Tree)         |  53.59%  |\n",
      "|      Extra Tree(Ensemble)       |  55.02%  |\n",
      "|               MLP               |  55.26%  |\n",
      "|        Nearest Centroid         |  52.15%  |\n",
      "| Quadratic Discriminant Analysis |  55.26%  |\n",
      "|        Radius Neighbours        |  52.87%  |\n",
      "|        Ridge Classifier         |  52.39%  |\n",
      "+---------------------------------+----------+\n"
     ]
    }
   ],
   "source": [
    "print(tabulate(tab_data, headers=['Classifiers','Accuracy'], tablefmt='pretty'))"
   ]
  },
  {
   "cell_type": "markdown",
   "metadata": {
    "papermill": {
     "duration": 0.010263,
     "end_time": "2020-08-17T21:03:11.174991",
     "exception": false,
     "start_time": "2020-08-17T21:03:11.164728",
     "status": "completed"
    },
    "tags": []
   },
   "source": [
    "As we can observe, the accuracy of these classifiers are fairely close to each other. The next logical step would be to fine-tune the parameters to increase the accuracy. "
   ]
  }
 ],
 "metadata": {
  "kernelspec": {
   "display_name": "Python 3",
   "language": "python",
   "name": "python3"
  },
  "language_info": {
   "codemirror_mode": {
    "name": "ipython",
    "version": 3
   },
   "file_extension": ".py",
   "mimetype": "text/x-python",
   "name": "python",
   "nbconvert_exporter": "python",
   "pygments_lexer": "ipython3",
   "version": "3.7.6"
  },
  "papermill": {
   "duration": 15.049682,
   "end_time": "2020-08-17T21:03:12.273219",
   "environment_variables": {},
   "exception": null,
   "input_path": "__notebook__.ipynb",
   "output_path": "__notebook__.ipynb",
   "parameters": {},
   "start_time": "2020-08-17T21:02:57.223537",
   "version": "2.1.0"
  }
 },
 "nbformat": 4,
 "nbformat_minor": 4
}
